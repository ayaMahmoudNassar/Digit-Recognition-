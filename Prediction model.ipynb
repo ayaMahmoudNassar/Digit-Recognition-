{
 "cells": [
  {
   "cell_type": "code",
   "execution_count": 1,
   "id": "4c9e044f",
   "metadata": {},
   "outputs": [
    {
     "name": "stdout",
     "output_type": "stream",
     "text": [
      "Test accuracy: 55.58%\n"
     ]
    },
    {
     "data": {
      "image/png": "[encoded data removed]",
      "text/plain": [
       "<Figure size 640x480 with 1 Axes>"
      ]
     },
     "metadata": {},
     "output_type": "display_data"
    }
   ],
   "source": [
    "import numpy as np\n",
    "import tensorflow as tf\n",
    "from sklearn.naive_bayes import GaussianNB\n",
    "from sklearn.metrics import accuracy_score\n",
    "import matplotlib.pyplot as plt\n",
    "\n",
    "# 1. Load MNIST dataset\n",
    "(x_train, y_train), (x_test, y_test) = tf.keras.datasets.mnist.load_data()\n",
    "\n",
    "# 2. Preprocess the data\n",
    "# Flatten the images (28x28 -> 784 features)\n",
    "x_train = x_train.reshape(-1, 28 * 28)\n",
    "x_test = x_test.reshape(-1, 28 * 28)\n",
    "\n",
    "# Normalize the images to have values between 0 and 1\n",
    "x_train = x_train / 255.0\n",
    "x_test = x_test / 255.0\n",
    "\n",
    "# 3. Train a Naive Bayes model\n",
    "nb_classifier = GaussianNB()\n",
    "\n",
    "# Fit the model on the training data\n",
    "nb_classifier.fit(x_train, y_train)\n",
    "\n",
    "# 4. Make predictions\n",
    "y_pred = nb_classifier.predict(x_test)\n",
    "\n",
    "# 5. Evaluate the model\n",
    "accuracy = accuracy_score(y_test, y_pred)\n",
    "print(f\"Test accuracy: {accuracy * 100:.2f}%\")\n",
    "\n",
    "# 6. Display the first test image and predicted result\n",
    "plt.imshow(x_test[0].reshape(28, 28), cmap=plt.cm.binary)\n",
    "plt.title(f\"Predicted: {y_pred[0]}\")\n",
    "plt.show()\n"
   ]
  },
  {
   "cell_type": "code",
   "execution_count": null,
   "id": "9a84169b-88c0-422b-86c2-074034977f55",
   "metadata": {},
   "outputs": [],
   "source": [
    "import numpy as np\n",
    "import tensorflow as tf\n",
    "from sklearn.decomposition import PCA\n",
    "from sklearn.naive_bayes import GaussianNB\n",
    "from sklearn.metrics import accuracy_score\n",
    "import matplotlib.pyplot as plt\n",
    "\n",
    "# 1. Load MNIST dataset\n",
    "(x_train, y_train), (x_test, y_test) = tf.keras.datasets.mnist.load_data()\n",
    "\n",
    "# 2. Preprocess the data\n",
    "# Flatten the images (28x28 -> 784 features)\n",
    "x_train = x_train.reshape(-1, 28 * 28)\n",
    "x_test = x_test.reshape(-1, 28 * 28)\n",
    "\n",
    "# Normalize the images to have values between 0 and 1\n",
    "x_train = x_train / 255.0\n",
    "x_test = x_test / 255.0\n",
    "\n",
    "# 3. Apply PCA (Dimensionality Reduction)\n",
    "# Reduce dimensions to 100 for better performance in Naive Bayes\n",
    "pca = PCA(n_components=100)  # Reduce to 100 principal components\n",
    "x_train_pca = pca.fit_transform(x_train)\n",
    "x_test_pca = pca.transform(x_test)\n",
    "\n",
    "# 4. Train a Naive Bayes model\n",
    "nb_classifier = GaussianNB()\n",
    "\n",
    "# Fit the model on the PCA-transformed data\n",
    "nb_classifier.fit(x_train_pca, y_train)\n",
    "\n",
    "# 5. Make predictions\n",
    "y_pred = nb_classifier.predict(x_test_pca)\n",
    "\n",
    "# 6. Evaluate the model\n",
    "accuracy = accuracy_score(y_test, y_pred)\n",
    "print(f\"Test accuracy: {accuracy * 100:.2f}%\")\n",
    "\n",
    "# 7. Display the first test image and predicted result\n",
    "plt.imshow(x_test[0].reshape(28, 28), cmap=plt.cm.binary)\n",
    "plt.title(f\"Predicted: {y_pred[0]}\")\n",
    "plt.show()"
   ]
  }
 ],
 "metadata": {
  "kernelspec": {
   "display_name": "Python 3 (ipykernel)",
   "language": "python",
   "name": "python3"
  },
  "language_info": {
   "codemirror_mode": {
    "name": "ipython",
    "version": 3
   },
   "file_extension": ".py",
   "mimetype": "text/x-python",
   "name": "python",
   "nbconvert_exporter": "python",
   "pygments_lexer": "ipython3",
   "version": "3.9.20"
  }
 },
 "nbformat": 4,
 "nbformat_minor": 5
}
