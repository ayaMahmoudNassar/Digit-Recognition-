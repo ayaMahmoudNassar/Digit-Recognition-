{
 "cells": [
  {
   "cell_type": "code",
   "execution_count": null,
   "id": "43a12402-140e-462b-a704-0e91396aa791",
   "metadata": {},
   "outputs": [],
   "source": [
    "# The implementation of the algorithm that parer talking about it but i change the data to another that avilabel.\n",
    "import os\n",
    "import pandas as pd\n",
    "from sklearn.preprocessing import StandardScaler\n",
    "from sklearn.svm import SVC\n",
    "from sklearn.metrics import classification_report\n",
    "\n",
    "# Example of a public dataset URL (replace with your actual dataset URL)\n",
    "data_url = 'https://archive.ics.uci.edu/ml/machine-learning-databases/iris/iris.data'\n",
    "\n",
    "# Specify column names (for the iris dataset, for example)\n",
    "column_names = ['sepal_length', 'sepal_width', 'petal_length', 'petal_width', 'class']\n",
    "\n",
    "# 1. Check if the file exists locally, else download it\n",
    "local_file_path = 'iris_data.csv'\n",
    "\n",
    "if not os.path.exists(local_file_path):\n",
    "    print(f\"File not found locally. Downloading from {data_url}...\")\n",
    "    data = pd.read_csv(data_url, header=None, names=column_names)\n",
    "    # Optionally, you can save it locally\n",
    "    data.to_csv(local_file_path, index=False)\n",
    "    print(f\"Data downloaded and saved as {local_file_path}\")\n",
    "else:\n",
    "    print(f\"Loading data from local file: {local_file_path}\")\n",
    "    data = pd.read_csv(local_file_path)\n",
    "\n",
    "# 2. Drop rows with missing values\n",
    "data = data.dropna()\n",
    "\n",
    "# 3. Select features and target variable\n",
    "X = data[['sepal_length', 'sepal_width', 'petal_length', 'petal_width']]  # Features\n",
    "y = data['class']  # Target variable\n",
    "\n",
    "# 4. Standardize the features\n",
    "scaler = StandardScaler()\n",
    "X_scaled = scaler.fit_transform(X)\n",
    "\n",
    "# 5. Initialize the SVM model with a linear kernel\n",
    "model = SVC(kernel='linear')\n",
    "\n",
    "# 6. Train the model\n",
    "model.fit(X_scaled, y)\n",
    "\n",
    "# 7. Make predictions on the same dataset (for demonstration purposes)\n",
    "y_pred = model.predict(X_scaled)\n",
    "\n",
    "# 8. Print classification report to evaluate the model\n",
    "print(\"Classification Report:\")\n",
    "print(classification_report(y, y_pred))  # Prints precision, recall, f1-score, etc.\n"
   ]
  }
 ],
 "metadata": {
  "kernelspec": {
   "display_name": "Python 3 (ipykernel)",
   "language": "python",
   "name": "python3"
  },
  "language_info": {
   "codemirror_mode": {
    "name": "ipython",
    "version": 3
   },
   "file_extension": ".py",
   "mimetype": "text/x-python",
   "name": "python",
   "nbconvert_exporter": "python",
   "pygments_lexer": "ipython3",
   "version": "3.9.20"
  }
 },
 "nbformat": 4,
 "nbformat_minor": 5
}
